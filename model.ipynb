{
 "cells": [
  {
   "cell_type": "code",
   "execution_count": 66,
   "id": "49ccc263",
   "metadata": {},
   "outputs": [],
   "source": [
    "import os\n",
    "import librosa\n",
    "import numpy as np\n",
    "import pandas as pd\n",
    "import matplotlib.pyplot as plt\n",
    "from PIL import Image\n",
    "from sklearn.model_selection import train_test_split\n",
    "from tqdm import tqdm\n",
    "\n",
    "import torch\n",
    "import torch.nn as nn\n",
    "import torch.nn.functional as F\n",
    "from torch.utils.data import Dataset, DataLoader\n",
    "import torchvision.transforms as transforms\n"
   ]
  },
  {
   "cell_type": "code",
   "execution_count": 67,
   "id": "aab33817",
   "metadata": {},
   "outputs": [],
   "source": [
    "AUDIO_DIR = 'audio'\n",
    "SPEC_DIR = 'spec_images'\n",
    "META_PATH = 'metadata.csv'\n",
    "\n",
    "WINDOW_SIZE = 3.0  # seconds\n",
    "HOP_SIZE = 1.5     # seconds\n",
    "SR = 22050         # sampling rate\n",
    "IMG_SIZE = 128     # spectrogram image size\n"
   ]
  },
  {
   "cell_type": "code",
   "execution_count": 68,
   "id": "46cc825b",
   "metadata": {},
   "outputs": [],
   "source": [
    "def add_noise(y, noise_factor=0.005):\n",
    "    \"\"\"Adds random Gaussian noise to an audio signal.\"\"\"\n",
    "    noise = np.random.randn(len(y))\n",
    "    augmented_data = y + noise_factor * noise\n",
    "    # Cast back to same data type\n",
    "    augmented_data = augmented_data.astype(type(y[0]))\n",
    "    return augmented_data\n",
    "\n",
    "def time_shift(y, sr, shift_max_ms=100):\n",
    "    \"\"\"Shifts an audio signal in time.\"\"\"\n",
    "    shift = int(sr * shift_max_ms / 1000 * np.random.uniform(-1, 1))\n",
    "    return np.roll(y, shift)\n",
    "\n",
    "def pitch_shift(y, sr, n_steps=2):\n",
    "    \"\"\"Shifts the pitch of an audio signal.\"\"\"\n",
    "    return librosa.effects.pitch_shift(y=y, sr=sr, n_steps=n_steps)"
   ]
  },
  {
   "cell_type": "code",
   "execution_count": 69,
   "id": "4759a189",
   "metadata": {},
   "outputs": [
    {
     "name": "stderr",
     "output_type": "stream",
     "text": [
      "100%|██████████| 1843/1843 [11:07<00:00,  2.76it/s]\n"
     ]
    }
   ],
   "source": [
    "os.makedirs(SPEC_DIR, exist_ok=True)\n",
    "meta_df = pd.read_csv(META_PATH)  # columns: filename,label\n",
    "\n",
    "label_map = {label: idx for idx, label in enumerate(meta_df['diagnosis'].unique())}\n",
    "label_df = meta_df.set_index('id')['diagnosis'].to_dict()\n",
    "\n",
    "def save_spec_patch(y, sr, out_path):\n",
    "    S = librosa.feature.melspectrogram(y=y, sr=sr, n_fft=1024, hop_length=512, n_mels=128)\n",
    "    S_dB = librosa.power_to_db(S, ref=np.max)\n",
    "    S_img = Image.fromarray(S_dB).resize((IMG_SIZE, IMG_SIZE))\n",
    "    S_img = S_img.convert('L')  # grayscale\n",
    "    S_img.save(out_path)\n",
    "\n",
    "# Loop through each audio file\n",
    "for fname in tqdm(os.listdir(AUDIO_DIR)):\n",
    "    if not fname.endswith('.wav'):\n",
    "        continue\n",
    "\n",
    "    file_id = os.path.splitext(fname)[0]\n",
    "    \n",
    "    # Load the original audio file\n",
    "    y, sr = librosa.load(os.path.join(AUDIO_DIR, fname), sr=SR)\n",
    "    \n",
    "    # Create a dictionary of augmented audio signals\n",
    "    # Each key will be used to name the output files\n",
    "    augmented_audios = {\n",
    "        \"original\": y,\n",
    "        \"noise\": add_noise(y, noise_factor=0.005),\n",
    "        \"shift\": time_shift(y, sr, shift_max_ms=100),\n",
    "        \"pitch\": pitch_shift(y, sr, n_steps=2)\n",
    "    }\n",
    "\n",
    "    # Process each augmented version (and the original)\n",
    "    for aug_type, aug_y in augmented_audios.items():\n",
    "        duration = librosa.get_duration(y=aug_y, sr=sr)\n",
    "        \n",
    "        win_len = int(WINDOW_SIZE * SR)\n",
    "        hop_len = int(HOP_SIZE * SR)\n",
    "        \n",
    "        # The output directory is the same for all versions of a file\n",
    "        output_dir = os.path.join(SPEC_DIR, file_id)\n",
    "        os.makedirs(output_dir, exist_ok=True)\n",
    "\n",
    "        # Create spectrogram patches for the current audio version\n",
    "        for i, start in enumerate(np.arange(0, duration - WINDOW_SIZE, HOP_SIZE)):\n",
    "            s = int(start * SR)\n",
    "            y_win = aug_y[s : s + win_len]\n",
    "            \n",
    "            # Add the augmentation type to the output filename\n",
    "            out_path = os.path.join(output_dir, f\"{file_id}_{aug_type}_{i}.png\")\n",
    "            save_spec_patch(y_win, sr, out_path)\n",
    "\n"
   ]
  },
  {
   "cell_type": "code",
   "execution_count": 70,
   "id": "423c60d8",
   "metadata": {},
   "outputs": [
    {
     "ename": "FileNotFoundError",
     "evalue": "[Errno 2] No such file or directory: 'spec_images/URTI'",
     "output_type": "error",
     "traceback": [
      "\u001b[31m---------------------------------------------------------------------------\u001b[39m",
      "\u001b[31mFileNotFoundError\u001b[39m                         Traceback (most recent call last)",
      "\u001b[36mCell\u001b[39m\u001b[36m \u001b[39m\u001b[32mIn[70]\u001b[39m\u001b[32m, line 4\u001b[39m\n\u001b[32m      2\u001b[39m patch_counts = {}\n\u001b[32m      3\u001b[39m \u001b[38;5;28;01mfor\u001b[39;00m label \u001b[38;5;129;01min\u001b[39;00m label_map.keys():\n\u001b[32m----> \u001b[39m\u001b[32m4\u001b[39m     patch_counts[label] = \u001b[38;5;28mlen\u001b[39m([f \u001b[38;5;28;01mfor\u001b[39;00m f \u001b[38;5;129;01min\u001b[39;00m \u001b[43mos\u001b[49m\u001b[43m.\u001b[49m\u001b[43mlistdir\u001b[49m\u001b[43m(\u001b[49m\u001b[43mos\u001b[49m\u001b[43m.\u001b[49m\u001b[43mpath\u001b[49m\u001b[43m.\u001b[49m\u001b[43mjoin\u001b[49m\u001b[43m(\u001b[49m\u001b[43mSPEC_DIR\u001b[49m\u001b[43m,\u001b[49m\u001b[43m \u001b[49m\u001b[43mlabel\u001b[49m\u001b[43m)\u001b[49m\u001b[43m)\u001b[49m \u001b[38;5;28;01mif\u001b[39;00m f.endswith(\u001b[33m'\u001b[39m\u001b[33m.png\u001b[39m\u001b[33m'\u001b[39m)]) \n\u001b[32m      5\u001b[39m df = pd.DataFrame({\n\u001b[32m      6\u001b[39m     \u001b[33m'\u001b[39m\u001b[33mlabel\u001b[39m\u001b[33m'\u001b[39m: \u001b[38;5;28mlist\u001b[39m(patch_counts.keys()),\n\u001b[32m      7\u001b[39m     \u001b[33m'\u001b[39m\u001b[33mnum_patches\u001b[39m\u001b[33m'\u001b[39m: \u001b[38;5;28mlist\u001b[39m(patch_counts.values())\n\u001b[32m      8\u001b[39m })\n\u001b[32m      9\u001b[39m \u001b[38;5;28mprint\u001b[39m(\u001b[33m\"\u001b[39m\u001b[38;5;130;01m\\n\u001b[39;00m\u001b[33mDataFrame of patch counts:\u001b[39m\u001b[33m\"\u001b[39m)\n",
      "\u001b[31mFileNotFoundError\u001b[39m: [Errno 2] No such file or directory: 'spec_images/URTI'"
     ]
    }
   ],
   "source": [
    "# Create a DataFrame to track the number of patches per class\n",
    "patch_counts = {}\n",
    "for label in label_map.keys():\n",
    "    patch_counts[label] = len([f for f in os.listdir(os.path.join(SPEC_DIR, label)) if f.endswith('.png')]) \n",
    "df = pd.DataFrame({\n",
    "    'label': list(patch_counts.keys()),\n",
    "    'num_patches': list(patch_counts.values())\n",
    "})\n",
    "print(\"\\nDataFrame of patch counts:\")\n",
    "print(df)"
   ]
  },
  {
   "cell_type": "code",
   "execution_count": 71,
   "id": "10c52fa8",
   "metadata": {},
   "outputs": [],
   "source": [
    "class SpecPatchDataset(Dataset):\n",
    "    def __init__(self, root_dir, file_ids_to_load, patient_to_diagnosis_map, diagnosis_to_int_map, transform=None):\n",
    "        \"\"\"\n",
    "        Args:\n",
    "            root_dir (string): Directory with all the spectrogram sub-folders.\n",
    "            file_ids_to_load (list): List of specific .wav filenames to load (e.g., train_ids or val_ids).\n",
    "            patient_to_diagnosis_map (dict): Maps patient ID (int) to diagnosis (str).\n",
    "            diagnosis_to_int_map (dict): Maps diagnosis (str) to a class index (int).\n",
    "            transform (callable, optional): Optional transform to be applied on a sample.\n",
    "        \"\"\"\n",
    "        self.samples = []\n",
    "        self.labels = []\n",
    "        self.transform = transform or transforms.ToTensor()\n",
    "        \n",
    "        # Loop over only the file IDs we're supposed to load\n",
    "        for file_name in file_ids_to_load:\n",
    "            file_id_without_ext = os.path.splitext(file_name)[0]\n",
    "            \n",
    "            # Extract patient ID to get the correct label\n",
    "            patient_id = int(file_name.split('_')[0])\n",
    "            class_label_str = patient_to_diagnosis_map[patient_id]\n",
    "            label_idx = diagnosis_to_int_map[class_label_str]\n",
    "            \n",
    "            # Find all spectrogram patches for this audio file\n",
    "            spectrogram_folder = os.path.join(root_dir, file_id_without_ext)\n",
    "            if os.path.isdir(spectrogram_folder):\n",
    "                for img_name in os.listdir(spectrogram_folder):\n",
    "                    self.samples.append(os.path.join(spectrogram_folder, img_name))\n",
    "                    self.labels.append(label_idx)\n",
    "\n",
    "    def __len__(self):\n",
    "        return len(self.samples)\n",
    "\n",
    "    def __getitem__(self, idx):\n",
    "        img = Image.open(self.samples[idx]).convert('L')\n",
    "        img = self.transform(img)\n",
    "        label = self.labels[idx]\n",
    "        return img, label"
   ]
  },
  {
   "cell_type": "code",
   "execution_count": 72,
   "id": "2ba598fc",
   "metadata": {},
   "outputs": [],
   "source": [
    "class SimpleCNN(nn.Module):\n",
    "    def __init__(self, num_classes):\n",
    "        super().__init__()\n",
    "        \n",
    "        # We define the feature extractor part of the model separately\n",
    "        self.features = nn.Sequential(\n",
    "            nn.Conv2d(1, 16, kernel_size=5),\n",
    "            nn.ReLU(),\n",
    "            nn.MaxPool2d(2, 2),\n",
    "            nn.Conv2d(16, 32, kernel_size=3),\n",
    "            nn.ReLU(),\n",
    "            nn.MaxPool2d(2, 2),\n",
    "            nn.Conv2d(32, 64, kernel_size=3),\n",
    "            nn.ReLU(),\n",
    "            nn.MaxPool2d(2, 2)\n",
    "        )\n",
    "        \n",
    "        # To find the input size for the linear layer, we pass a dummy tensor\n",
    "        # through the feature extractor once.\n",
    "        with torch.no_grad():\n",
    "            # Create a dummy tensor with the same dimensions as one input image\n",
    "            dummy_input = torch.randn(1, 1, IMG_SIZE, IMG_SIZE)\n",
    "            # Pass it through the feature extractor\n",
    "            dummy_output = self.features(dummy_input)\n",
    "            # Get the size of the flattened output\n",
    "            flattened_size = dummy_output.view(1, -1).size(1)\n",
    "            \n",
    "        # Now we can define the classifier with the correct input size\n",
    "        self.classifier = nn.Sequential(\n",
    "            nn.Linear(flattened_size, 128),\n",
    "            nn.ReLU(),\n",
    "            nn.Dropout(0.3),\n",
    "            nn.Linear(128, num_classes)\n",
    "        )\n",
    "\n",
    "    def forward(self, x):\n",
    "        # Pass input through the feature extractor\n",
    "        x = self.features(x)\n",
    "        # Flatten the output for the classifier\n",
    "        x = x.view(x.size(0), -1)\n",
    "        # Pass the flattened tensor through the classifier\n",
    "        x = self.classifier(x)\n",
    "        return x"
   ]
  },
  {
   "cell_type": "code",
   "execution_count": 73,
   "id": "1f15d7cb",
   "metadata": {},
   "outputs": [
    {
     "name": "stdout",
     "output_type": "stream",
     "text": [
      "diagnosis\n",
      "COPD              64\n",
      "Healthy           26\n",
      "URTI              14\n",
      "Bronchiectasis     7\n",
      "Bronchiolitis      6\n",
      "Pneumonia          6\n",
      "LRTI               2\n",
      "Asthma             1\n",
      "Name: count, dtype: int64\n"
     ]
    }
   ],
   "source": [
    "print(meta_df['diagnosis'].value_counts())"
   ]
  },
  {
   "cell_type": "code",
   "execution_count": 74,
   "id": "3900bede",
   "metadata": {},
   "outputs": [
    {
     "name": "stdout",
     "output_type": "stream",
     "text": [
      "Removing rare classes: ['Asthma']\n",
      "\\nTraining spectrogram patches: 37724\n",
      "Validation spectrogram patches: 9976\n"
     ]
    }
   ],
   "source": [
    "transform = transforms.Compose([\n",
    "    transforms.ToTensor(),\n",
    "    transforms.Normalize(mean=[0.5], std=[0.5])\n",
    "])\n",
    "\n",
    "# 1. Identify and filter out classes with fewer than 2 samples\n",
    "class_counts = meta_df['diagnosis'].value_counts()\n",
    "classes_to_remove = class_counts[class_counts < 2].index.tolist()\n",
    "\n",
    "if classes_to_remove:\n",
    "    print(f\"Removing rare classes: {classes_to_remove}\")\n",
    "    ids_to_remove = meta_df[meta_df['diagnosis'].isin(classes_to_remove)]['id'].astype(str).tolist()\n",
    "    all_file_ids = [f for f in os.listdir(AUDIO_DIR) if f.endswith('.wav')]\n",
    "    file_ids = [f for f in all_file_ids if f.split('_')[0] not in ids_to_remove]\n",
    "else:\n",
    "    file_ids = [f for f in os.listdir(AUDIO_DIR) if f.endswith('.wav')]\n",
    "\n",
    "# 2. Create labels for the filtered files for stratification\n",
    "patient_ids = [int(f.split('_')[0]) for f in file_ids]\n",
    "stratify_labels = [meta_df.loc[meta_df['id'] == pid, 'diagnosis'].values[0] for pid in patient_ids]\n",
    "\n",
    "# 3. Split the filtered data\n",
    "train_ids, val_ids = train_test_split(\n",
    "    file_ids,\n",
    "    test_size=0.2,\n",
    "    stratify=stratify_labels,\n",
    "    random_state=42\n",
    ")\n",
    "\n",
    "# 4. Define the necessary dictionaries for the dataset\n",
    "# This maps patient ID (e.g., 101) to diagnosis (e.g., 'COPD')\n",
    "patient_to_diagnosis_map = meta_df.set_index('id')['diagnosis'].to_dict()\n",
    "# This maps diagnosis (e.g., 'COPD') to an integer (e.g., 0)\n",
    "diagnosis_to_int_map = {label: idx for idx, label in enumerate(meta_df['diagnosis'].unique())}\n",
    "\n",
    "# 5. Instantiate the datasets using the corrected class\n",
    "train_ds = SpecPatchDataset(SPEC_DIR, train_ids, patient_to_diagnosis_map, diagnosis_to_int_map, transform)\n",
    "val_ds   = SpecPatchDataset(SPEC_DIR, val_ids, patient_to_diagnosis_map, diagnosis_to_int_map, transform)\n",
    "\n",
    "# Create dataloaders\n",
    "train_loader = DataLoader(train_ds, batch_size=32, shuffle=True)\n",
    "val_loader   = DataLoader(val_ds, batch_size=32, shuffle=False)\n",
    "\n",
    "print(f\"\\\\nTraining spectrogram patches: {len(train_ds)}\")\n",
    "print(f\"Validation spectrogram patches: {len(val_ds)}\")"
   ]
  },
  {
   "cell_type": "code",
   "execution_count": 75,
   "id": "763d506b",
   "metadata": {},
   "outputs": [
    {
     "name": "stdout",
     "output_type": "stream",
     "text": [
      "Epoch 01 | Train Loss: 0.6161\n",
      "Epoch 02 | Train Loss: 0.6016\n",
      "Epoch 03 | Train Loss: 0.6018\n",
      "Epoch 04 | Train Loss: 0.5995\n",
      "Epoch 05 | Train Loss: 0.5987\n",
      "Epoch 06 | Train Loss: 0.5966\n",
      "Epoch 07 | Train Loss: 0.5961\n",
      "Epoch 08 | Train Loss: 0.5961\n",
      "Epoch 09 | Train Loss: 0.5949\n",
      "Epoch 10 | Train Loss: 0.5935\n",
      "Epoch 11 | Train Loss: 0.5930\n",
      "Epoch 12 | Train Loss: 0.5929\n",
      "Epoch 13 | Train Loss: 0.5923\n",
      "Epoch 14 | Train Loss: 0.5922\n",
      "Epoch 15 | Train Loss: 0.5915\n",
      "Epoch 16 | Train Loss: 0.5912\n",
      "Epoch 17 | Train Loss: 0.5911\n",
      "Epoch 18 | Train Loss: 0.5901\n",
      "Epoch 19 | Train Loss: 0.5904\n",
      "Epoch 20 | Train Loss: 0.5904\n",
      "Epoch 21 | Train Loss: 0.5902\n",
      "Epoch 22 | Train Loss: 0.5902\n",
      "Epoch 23 | Train Loss: 0.5905\n",
      "Epoch 24 | Train Loss: 0.5900\n",
      "Epoch 25 | Train Loss: 0.5897\n",
      "Epoch 26 | Train Loss: 0.5896\n",
      "Epoch 27 | Train Loss: 0.5901\n",
      "Epoch 28 | Train Loss: 0.5893\n",
      "Epoch 29 | Train Loss: 0.5898\n"
     ]
    }
   ],
   "source": [
    "device = torch.device(\"cuda\" if torch.cuda.is_available() else \"cpu\")\n",
    "model = SimpleCNN(num_classes=len(label_map)).to(device)\n",
    "\n",
    "optimizer = torch.optim.Adam(model.parameters(), lr=1e-3)\n",
    "criterion = nn.CrossEntropyLoss()\n",
    "\n",
    "for epoch in range(1, 30):\n",
    "    model.train()\n",
    "    total_loss = 0\n",
    "    for imgs, labels in train_loader:\n",
    "        imgs, labels = imgs.to(device), labels.to(device)\n",
    "        optimizer.zero_grad()\n",
    "        outputs = model(imgs)\n",
    "        loss = criterion(outputs, labels)\n",
    "        loss.backward()\n",
    "        optimizer.step()\n",
    "        total_loss += loss.item()\n",
    "    print(f\"Epoch {epoch:02d} | Train Loss: {total_loss / len(train_loader):.4f}\")\n"
   ]
  },
  {
   "cell_type": "code",
   "execution_count": 76,
   "id": "4ccac1af",
   "metadata": {},
   "outputs": [
    {
     "name": "stdout",
     "output_type": "stream",
     "text": [
      "Validation Accuracy: 0.8797\n"
     ]
    }
   ],
   "source": [
    "model.eval()\n",
    "correct = 0\n",
    "total = 0\n",
    "\n",
    "with torch.no_grad():\n",
    "    for imgs, labels in val_loader:\n",
    "        imgs, labels = imgs.to(device), labels.to(device)\n",
    "        preds = model(imgs).argmax(dim=1)\n",
    "        correct += (preds == labels).sum().item()\n",
    "        total += labels.size(0)\n",
    "\n",
    "print(f\"Validation Accuracy: {correct / total:.4f}\")\n"
   ]
  },
  {
   "cell_type": "code",
   "execution_count": 77,
   "id": "31020d3a",
   "metadata": {},
   "outputs": [],
   "source": [
    "#MLP version\n",
    "class MLP(nn.Module):\n",
    "    def __init__(self, num_classes):\n",
    "        super().__init__()\n",
    "        # Calculate the input size from the image dimensions\n",
    "        input_size = IMG_SIZE * IMG_SIZE\n",
    "\n",
    "        # Define the sequence of layers\n",
    "        self.layers = nn.Sequential(\n",
    "            # This layer flattens the 2D image into a 1D vector\n",
    "            nn.Flatten(),\n",
    "            \n",
    "            # First hidden layer\n",
    "            nn.Linear(input_size, 512),\n",
    "            nn.ReLU(),\n",
    "            nn.Dropout(0.3),\n",
    "            \n",
    "            # Second hidden layer\n",
    "            nn.Linear(512, 256),\n",
    "            nn.ReLU(),\n",
    "            nn.Dropout(0.3),\n",
    "            \n",
    "            # Output layer\n",
    "            nn.Linear(256, num_classes)\n",
    "        )\n",
    "\n",
    "    def forward(self, x):\n",
    "        \"\"\"The forward pass.\"\"\"\n",
    "        return self.layers(x)"
   ]
  },
  {
   "cell_type": "code",
   "execution_count": 78,
   "id": "11191d32",
   "metadata": {},
   "outputs": [
    {
     "name": "stdout",
     "output_type": "stream",
     "text": [
      "Using MLP model:\n",
      "MLP(\n",
      "  (layers): Sequential(\n",
      "    (0): Flatten(start_dim=1, end_dim=-1)\n",
      "    (1): Linear(in_features=16384, out_features=512, bias=True)\n",
      "    (2): ReLU()\n",
      "    (3): Dropout(p=0.3, inplace=False)\n",
      "    (4): Linear(in_features=512, out_features=256, bias=True)\n",
      "    (5): ReLU()\n",
      "    (6): Dropout(p=0.3, inplace=False)\n",
      "    (7): Linear(in_features=256, out_features=8, bias=True)\n",
      "  )\n",
      ")\n",
      "Epoch 01 | Train Loss: 0.6810\n",
      "Epoch 02 | Train Loss: 0.6133\n",
      "Epoch 03 | Train Loss: 0.6110\n",
      "Epoch 04 | Train Loss: 0.6076\n",
      "Epoch 05 | Train Loss: 0.6055\n",
      "Epoch 06 | Train Loss: 0.5963\n",
      "Epoch 07 | Train Loss: 0.5910\n",
      "Epoch 08 | Train Loss: 0.5910\n",
      "Epoch 09 | Train Loss: 0.5908\n",
      "Epoch 10 | Train Loss: 0.5913\n",
      "Epoch 11 | Train Loss: 0.5908\n",
      "Epoch 12 | Train Loss: 0.5911\n",
      "Epoch 13 | Train Loss: 0.5904\n",
      "Epoch 14 | Train Loss: 0.5901\n",
      "Epoch 15 | Train Loss: 0.5903\n"
     ]
    }
   ],
   "source": [
    "# Make sure you have defined the MLP class in a cell above this one\n",
    "\n",
    "device = torch.device(\"cuda\" if torch.cuda.is_available() else \"cpu\")\n",
    "# Instantiate the new MLP model\n",
    "model = MLP(num_classes=len(label_map)).to(device)\n",
    "\n",
    "print(\"Using MLP model:\")\n",
    "print(model)\n",
    "\n",
    "optimizer = torch.optim.Adam(model.parameters(), lr=1e-3)\n",
    "criterion = nn.CrossEntropyLoss()\n",
    "\n",
    "for epoch in range(1, 16):\n",
    "    model.train()\n",
    "    total_loss = 0\n",
    "    for imgs, labels in train_loader:\n",
    "        imgs, labels = imgs.to(device), labels.to(device)\n",
    "        optimizer.zero_grad()\n",
    "        outputs = model(imgs)\n",
    "        loss = criterion(outputs, labels)\n",
    "        loss.backward()\n",
    "        optimizer.step()\n",
    "        total_loss += loss.item()\n",
    "    print(f\"Epoch {epoch:02d} | Train Loss: {total_loss / len(train_loader):.4f}\")"
   ]
  },
  {
   "cell_type": "code",
   "execution_count": 79,
   "id": "156edfc4",
   "metadata": {},
   "outputs": [
    {
     "name": "stdout",
     "output_type": "stream",
     "text": [
      "MLP Validation Accuracy: 0.8797\n"
     ]
    }
   ],
   "source": [
    "# Model Evaluation for MLP\n",
    "model.eval()\n",
    "correct = 0\n",
    "total = 0\n",
    "\n",
    "with torch.no_grad():\n",
    "    for imgs, labels in val_loader:\n",
    "        imgs, labels = imgs.to(device), labels.to(device)\n",
    "        outputs = model(imgs)\n",
    "        _, predicted = torch.max(outputs.data, 1)\n",
    "        total += labels.size(0)\n",
    "        correct += (predicted == labels).sum().item()\n",
    "\n",
    "print(f\"MLP Validation Accuracy: {correct / total:.4f}\")\n",
    "\n"
   ]
  },
  {
   "cell_type": "code",
   "execution_count": 80,
   "id": "1803f54e",
   "metadata": {},
   "outputs": [
    {
     "name": "stdout",
     "output_type": "stream",
     "text": [
      "Class distribution of validation set patches:\n",
      "COPD              0.879711\n",
      "Healthy           0.033681\n",
      "Pneumonia         0.033681\n",
      "URTI              0.024058\n",
      "Bronchiolitis     0.014435\n",
      "Bronchiectasis    0.014435\n",
      "Name: proportion, dtype: float64\n"
     ]
    }
   ],
   "source": [
    "# --- Verify the class distribution in the validation set patches ---\n",
    "import pandas as pd\n",
    "\n",
    "val_labels = []\n",
    "# Loop through the val_loader to get all patch labels\n",
    "for _, labels in val_loader:\n",
    "    val_labels.extend(labels.cpu().numpy())\n",
    "\n",
    "# Create a reverse mapping from index to class name\n",
    "idx_to_class = {v: k for k, v in diagnosis_to_int_map.items()}\n",
    "val_class_names = [idx_to_class[i] for i in val_labels]\n",
    "\n",
    "print(\"Class distribution of validation set patches:\")\n",
    "print(pd.Series(val_class_names).value_counts(normalize=True))"
   ]
  },
  {
   "cell_type": "code",
   "execution_count": 81,
   "id": "501d06e4",
   "metadata": {},
   "outputs": [
    {
     "name": "stdout",
     "output_type": "stream",
     "text": [
      "--- Starting Training with Weighted Loss ---\n",
      "Epoch 01 | Train Loss: 1.9511\n",
      "Epoch 02 | Train Loss: 1.9354\n",
      "Epoch 03 | Train Loss: 1.9350\n",
      "Epoch 04 | Train Loss: 1.9184\n",
      "Epoch 05 | Train Loss: 1.9118\n",
      "Epoch 06 | Train Loss: 1.8998\n",
      "Epoch 07 | Train Loss: 1.9008\n",
      "Epoch 08 | Train Loss: 1.8974\n",
      "Epoch 09 | Train Loss: 1.8980\n",
      "Epoch 10 | Train Loss: 1.8963\n",
      "Epoch 11 | Train Loss: 1.8999\n",
      "Epoch 12 | Train Loss: 1.8969\n",
      "Epoch 13 | Train Loss: 1.8956\n",
      "Epoch 14 | Train Loss: 1.8954\n",
      "Epoch 15 | Train Loss: 1.8954\n",
      "Epoch 16 | Train Loss: 1.8974\n",
      "Epoch 17 | Train Loss: 1.8930\n",
      "Epoch 18 | Train Loss: 1.8985\n",
      "Epoch 19 | Train Loss: 1.8961\n",
      "Epoch 20 | Train Loss: 1.8986\n",
      "Epoch 21 | Train Loss: 1.8983\n",
      "Epoch 22 | Train Loss: 1.8950\n",
      "Epoch 23 | Train Loss: 1.8981\n",
      "Epoch 24 | Train Loss: 1.8955\n",
      "Epoch 25 | Train Loss: 1.8930\n",
      "Epoch 26 | Train Loss: 1.8944\n",
      "Epoch 27 | Train Loss: 1.8977\n",
      "Epoch 28 | Train Loss: 1.8914\n",
      "Epoch 29 | Train Loss: 1.8945\n",
      "Epoch 30 | Train Loss: 1.8975\n",
      "Epoch 31 | Train Loss: 1.8964\n",
      "Epoch 32 | Train Loss: 1.8955\n",
      "Epoch 33 | Train Loss: 1.8953\n",
      "Epoch 34 | Train Loss: 1.8972\n",
      "Epoch 35 | Train Loss: 1.8966\n",
      "Epoch 36 | Train Loss: 1.8940\n",
      "Epoch 37 | Train Loss: 1.8933\n",
      "Epoch 38 | Train Loss: 1.8950\n",
      "Epoch 39 | Train Loss: 1.8964\n",
      "Epoch 40 | Train Loss: 1.8954\n",
      "Epoch 41 | Train Loss: 1.8952\n",
      "Epoch 42 | Train Loss: 1.8954\n",
      "Epoch 43 | Train Loss: 1.8979\n",
      "Epoch 44 | Train Loss: 1.8948\n",
      "Epoch 45 | Train Loss: 1.8959\n",
      "Epoch 46 | Train Loss: 1.8974\n",
      "Epoch 47 | Train Loss: 1.8977\n",
      "Epoch 48 | Train Loss: 1.8947\n",
      "Epoch 49 | Train Loss: 1.8949\n",
      "Epoch 50 | Train Loss: 1.8933\n"
     ]
    }
   ],
   "source": [
    "import seaborn as sns\n",
    "import numpy as np\n",
    "from sklearn.metrics import classification_report, confusion_matrix\n",
    "\n",
    "# --- 1. Calculate Class Weights ---\n",
    "# Get the distribution of all training patches to calculate weights\n",
    "train_labels_for_weights = []\n",
    "for _, labels in train_loader:\n",
    "    train_labels_for_weights.extend(labels.numpy())\n",
    "\n",
    "# Calculate weights: the inverse of the class frequency, which penalizes the model\n",
    "# more for making mistakes on rare classes.\n",
    "class_counts = np.bincount(train_labels_for_weights)\n",
    "class_weights = 1. / torch.tensor(class_counts, dtype=torch.float)\n",
    "\n",
    "# Move weights to the correct device\n",
    "device = torch.device(\"cuda\" if torch.cuda.is_available() else \"cpu\")\n",
    "class_weights = class_weights.to(device)\n",
    "\n",
    "\n",
    "# --- 2. Train the MLP Model with Weighted Loss ---\n",
    "# Re-initialize the model to ensure you're training a fresh one\n",
    "model = MLP(num_classes=len(label_map)).to(device)\n",
    "\n",
    "optimizer = torch.optim.Adam(model.parameters(), lr=1e-4)\n",
    "# Tell the loss function to use the calculated weights\n",
    "criterion = nn.CrossEntropyLoss(weight=class_weights)\n",
    "\n",
    "print(\"--- Starting Training with Weighted Loss ---\")\n",
    "for epoch in range(1, 51): # You can increase epochs for better convergence\n",
    "    model.train()\n",
    "    total_loss = 0\n",
    "    for imgs, labels in train_loader:\n",
    "        imgs, labels = imgs.to(device), labels.to(device)\n",
    "        optimizer.zero_grad()\n",
    "        outputs = model(imgs)\n",
    "        loss = criterion(outputs, labels)\n",
    "        loss.backward()\n",
    "        optimizer.step()\n",
    "        total_loss += loss.item()\n",
    "    print(f\"Epoch {epoch:02d} | Train Loss: {total_loss / len(train_loader):.4f}\")\n",
    "\n"
   ]
  },
  {
   "cell_type": "code",
   "execution_count": 82,
   "id": "248d565e",
   "metadata": {},
   "outputs": [
    {
     "name": "stdout",
     "output_type": "stream",
     "text": [
      "\n",
      "--- Evaluating Model Trained with Weighted Loss ---\n",
      "\n",
      "Validation Accuracy: 87.97%\n",
      "\n"
     ]
    }
   ],
   "source": [
    "\n",
    "# --- 3. Evaluate the NEWLY Trained Model ---\n",
    "print(\"\\n--- Evaluating Model Trained with Weighted Loss ---\")\n",
    "y_pred = []\n",
    "y_true = []\n",
    "\n",
    "model.eval()\n",
    "with torch.no_grad():\n",
    "    for imgs, labels in val_loader:\n",
    "        imgs = imgs.to(device)\n",
    "        y_true.extend(labels.cpu().numpy())\n",
    "        \n",
    "        outputs = model(imgs)\n",
    "        preds = outputs.argmax(dim=1)\n",
    "        y_pred.extend(preds.cpu().numpy())\n",
    "\n",
    "# Overall Accuracy\n",
    "correct = (np.array(y_pred) == np.array(y_true)).sum()\n",
    "total = len(y_true)\n",
    "print(f\"\\nValidation Accuracy: {100 * correct / total:.2f}%\\n\")\n"
   ]
  },
  {
   "cell_type": "code",
   "execution_count": 83,
   "id": "b42acae6",
   "metadata": {},
   "outputs": [
    {
     "name": "stdout",
     "output_type": "stream",
     "text": [
      "Classification Report:\n",
      "                precision    recall  f1-score   support\n",
      "\n",
      "          URTI       0.00      0.00      0.00       240\n",
      "       Healthy       0.00      0.00      0.00       336\n",
      "          COPD       0.88      1.00      0.94      8776\n",
      "Bronchiectasis       0.00      0.00      0.00       144\n",
      "     Pneumonia       0.00      0.00      0.00       336\n",
      " Bronchiolitis       0.00      0.00      0.00       144\n",
      "\n",
      "      accuracy                           0.88      9976\n",
      "     macro avg       0.15      0.17      0.16      9976\n",
      "  weighted avg       0.77      0.88      0.82      9976\n",
      "\n",
      "Confusion Matrix:\n"
     ]
    },
    {
     "data": {
      "image/png": "[encoded data removed]",
      "text/plain": [
       "<Figure size 1000x800 with 2 Axes>"
      ]
     },
     "metadata": {},
     "output_type": "display_data"
    }
   ],
   "source": [
    "\n",
    "# Classification Report\n",
    "print(\"Classification Report:\")\n",
    "idx_to_class = {v: k for k, v in diagnosis_to_int_map.items()}\n",
    "present_class_indices = sorted(list(set(y_true)))\n",
    "present_class_names = [idx_to_class[i] for i in present_class_indices]\n",
    "report = classification_report(y_true, y_pred, labels=present_class_indices, target_names=present_class_names, zero_division=0)\n",
    "print(report)\n",
    "\n",
    "# Confusion Matrix\n",
    "print(\"Confusion Matrix:\")\n",
    "cm = confusion_matrix(y_true, y_pred, labels=present_class_indices)\n",
    "plt.figure(figsize=(10, 8))\n",
    "sns.heatmap(cm, annot=True, fmt='d', cmap='Blues', \n",
    "            xticklabels=present_class_names, yticklabels=present_class_names)\n",
    "plt.title('Confusion Matrix (Weighted Loss Model)')\n",
    "plt.ylabel('True Label')\n",
    "plt.xlabel('Predicted Label')\n",
    "plt.show()"
   ]
  },
  {
   "cell_type": "code",
   "execution_count": 84,
   "id": "22a929a4",
   "metadata": {},
   "outputs": [
    {
     "name": "stderr",
     "output_type": "stream",
     "text": [
      "100%|██████████| 1843/1843 [00:07<00:00, 245.35it/s]"
     ]
    },
    {
     "name": "stdout",
     "output_type": "stream",
     "text": [
      "Total spectrogram patches per class after sliding window segmentation:\n",
      "URTI           : 276\n",
      "Healthy        : 420\n",
      "Asthma         : 0\n",
      "COPD           : 10420\n",
      "LRTI           : 24\n",
      "Bronchiectasis : 192\n",
      "Pneumonia      : 444\n",
      "Bronchiolitis  : 156\n"
     ]
    },
    {
     "name": "stderr",
     "output_type": "stream",
     "text": [
      "\n"
     ]
    }
   ],
   "source": [
    "import numpy as np\n",
    "from tqdm import tqdm\n",
    "\n",
    "# Initialize a dictionary to count patches per class\n",
    "patch_counts = {label: 0 for label in label_map.keys()}\n",
    "\n",
    "# Process each audio file\n",
    "for fname in tqdm(os.listdir(AUDIO_DIR)):\n",
    "    if not fname.endswith('.wav'):\n",
    "        continue\n",
    "    \n",
    "    file_id = os.path.splitext(fname)[0]\n",
    "    patient_id = int(fname.split('_')[0])\n",
    "    \n",
    "    # Get the label for this file\n",
    "    label = patient_to_diagnosis_map[patient_id]\n",
    "    \n",
    "    # Skip if this is one of the rare classes we removed\n",
    "    if label in classes_to_remove:\n",
    "        continue\n",
    "    \n",
    "    # Calculate number of patches for this file\n",
    "    y, _ = librosa.load(os.path.join(AUDIO_DIR, fname), sr=SR)\n",
    "    duration = librosa.get_duration(y=y, sr=SR)\n",
    "    \n",
    "    if duration < WINDOW_SIZE:\n",
    "        num_patches = 1  # at least one patch even if file is shorter than window\n",
    "    else:\n",
    "        num_patches = int(np.floor((duration - WINDOW_SIZE) / HOP_SIZE)) + 1\n",
    "    \n",
    "    patch_counts[label] += num_patches\n",
    "\n",
    "# Display the results\n",
    "print(\"Total spectrogram patches per class after sliding window segmentation:\")\n",
    "for label, count in patch_counts.items():\n",
    "    print(f\"{label:15s}: {count}\")"
   ]
  },
  {
   "cell_type": "code",
   "execution_count": 85,
   "id": "9a51d72f",
   "metadata": {},
   "outputs": [
    {
     "name": "stdout",
     "output_type": "stream",
     "text": [
      "\n",
      "DataFrame of patch counts:\n",
      "            label  num_patches\n",
      "0            URTI          276\n",
      "1         Healthy          420\n",
      "2          Asthma            0\n",
      "3            COPD        10420\n",
      "4            LRTI           24\n",
      "5  Bronchiectasis          192\n",
      "6       Pneumonia          444\n",
      "7   Bronchiolitis          156\n"
     ]
    }
   ],
   "source": [
    "df = pd.DataFrame({\n",
    "    'label': list(patch_counts.keys()),\n",
    "    'num_patches': list(patch_counts.values())\n",
    "})\n",
    "print(\"\\nDataFrame of patch counts:\")\n",
    "print(df)"
   ]
  },
  {
   "cell_type": "code",
   "execution_count": 86,
   "id": "0d477d23",
   "metadata": {},
   "outputs": [
    {
     "data": {
      "image/png": "[encoded data removed]",
      "text/plain": [
       "<Figure size 1200x600 with 1 Axes>"
      ]
     },
     "metadata": {},
     "output_type": "display_data"
    }
   ],
   "source": [
    "import matplotlib.pyplot as plt\n",
    "# Plot the distribution of spectrogram patches per class\n",
    "plt.figure(figsize=(12, 6))\n",
    "plt.bar(df['label'], df['num_patches'], color='skyblue')\n",
    "plt.xlabel('Class Label')\n",
    "plt.ylabel('Number of Spectrogram Patches')\n",
    "plt.title('Distribution of Spectrogram Patches per Class')\n",
    "plt.xticks(rotation=45)\n",
    "plt.tight_layout()\n",
    "plt.show()"
   ]
  },
  {
   "cell_type": "code",
   "execution_count": null,
   "id": "6e73d292",
   "metadata": {},
   "outputs": [],
   "source": []
  }
 ],
 "metadata": {
  "kernelspec": {
   "display_name": "Python 3",
   "language": "python",
   "name": "python3"
  },
  "language_info": {
   "codemirror_mode": {
    "name": "ipython",
    "version": 3
   },
   "file_extension": ".py",
   "mimetype": "text/x-python",
   "name": "python",
   "nbconvert_exporter": "python",
   "pygments_lexer": "ipython3",
   "version": "3.12.9"
  }
 },
 "nbformat": 4,
 "nbformat_minor": 5
}
