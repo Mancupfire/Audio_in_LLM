{
 "cells": [
  {
   "cell_type": "code",
   "execution_count": 20,
   "id": "49ccc263",
   "metadata": {},
   "outputs": [],
   "source": [
    "import os\n",
    "import librosa\n",
    "import numpy as np\n",
    "import pandas as pd\n",
    "import matplotlib.pyplot as plt\n",
    "from PIL import Image\n",
    "from sklearn.model_selection import train_test_split\n",
    "from tqdm import tqdm\n",
    "\n",
    "import torch\n",
    "import torch.nn as nn\n",
    "import torch.nn.functional as F\n",
    "from torch.utils.data import Dataset, DataLoader\n",
    "import torchvision.transforms as transforms\n"
   ]
  },
  {
   "cell_type": "code",
   "execution_count": 21,
   "id": "aab33817",
   "metadata": {},
   "outputs": [],
   "source": [
    "AUDIO_DIR = 'audio'\n",
    "SPEC_DIR = 'spec_images'\n",
    "META_PATH = 'metadata.csv'\n",
    "\n",
    "WINDOW_SIZE = 3.0  # seconds\n",
    "HOP_SIZE = 1.5     # seconds\n",
    "SR = 22050         # sampling rate\n",
    "IMG_SIZE = 128     # spectrogram image size\n"
   ]
  },
  {
   "cell_type": "code",
   "execution_count": null,
   "id": "4759a189",
   "metadata": {},
   "outputs": [
    {
     "name": "stderr",
     "output_type": "stream",
     "text": [
      "100%|██████████| 1843/1843 [03:56<00:00,  7.80it/s]\n"
     ]
    }
   ],
   "source": [
    "os.makedirs(SPEC_DIR, exist_ok=True)\n",
    "meta_df = pd.read_csv(META_PATH)  # columns: filename,label\n",
    "\n",
    "label_map = {label: idx for idx, label in enumerate(meta_df['diagnosis'].unique())}\n",
    "label_df = meta_df.set_index('id')['diagnosis'].to_dict()\n",
    "\n",
    "def save_spec_patch(y, sr, out_path):\n",
    "    S = librosa.feature.melspectrogram(y=y, sr=sr, n_fft=1024, hop_length=512, n_mels=128)\n",
    "    S_dB = librosa.power_to_db(S, ref=np.max)\n",
    "    S_img = Image.fromarray(S_dB).resize((IMG_SIZE, IMG_SIZE))\n",
    "    S_img = S_img.convert('L')  # grayscale\n",
    "    S_img.save(out_path)\n",
    "\n",
    "for fname in tqdm(os.listdir(AUDIO_DIR)):\n",
    "    if not fname.endswith('.wav'): continue\n",
    "    file_id = os.path.splitext(fname)[0]\n",
    "    y, _ = librosa.load(os.path.join(AUDIO_DIR, fname), sr=SR)\n",
    "    duration = librosa.get_duration(y=y, sr=SR)\n",
    "    \n",
    "    win_len = int(WINDOW_SIZE * SR)\n",
    "    hop_len = int(HOP_SIZE * SR)\n",
    "    output_dir = os.path.join(SPEC_DIR, file_id)\n",
    "    os.makedirs(output_dir, exist_ok=True)\n",
    "\n",
    "    for i, start in enumerate(np.arange(0, duration - WINDOW_SIZE, HOP_SIZE)):\n",
    "        s = int(start * SR)\n",
    "        y_win = y[s : s + win_len]\n",
    "        out_path = os.path.join(output_dir, f\"{file_id}_{i}.png\")\n",
    "        save_spec_patch(y_win, SR, out_path)\n"
   ]
  },
  {
   "cell_type": "code",
   "execution_count": 28,
   "id": "10c52fa8",
   "metadata": {},
   "outputs": [],
   "source": [
    "class SpecPatchDataset(Dataset):\n",
    "    def __init__(self, root_dir, file_ids_to_load, patient_to_diagnosis_map, diagnosis_to_int_map, transform=None):\n",
    "        \"\"\"\n",
    "        Args:\n",
    "            root_dir (string): Directory with all the spectrogram sub-folders.\n",
    "            file_ids_to_load (list): List of specific .wav filenames to load (e.g., train_ids or val_ids).\n",
    "            patient_to_diagnosis_map (dict): Maps patient ID (int) to diagnosis (str).\n",
    "            diagnosis_to_int_map (dict): Maps diagnosis (str) to a class index (int).\n",
    "            transform (callable, optional): Optional transform to be applied on a sample.\n",
    "        \"\"\"\n",
    "        self.samples = []\n",
    "        self.labels = []\n",
    "        self.transform = transform or transforms.ToTensor()\n",
    "        \n",
    "        # Loop over only the file IDs we're supposed to load\n",
    "        for file_name in file_ids_to_load:\n",
    "            file_id_without_ext = os.path.splitext(file_name)[0]\n",
    "            \n",
    "            # Extract patient ID to get the correct label\n",
    "            patient_id = int(file_name.split('_')[0])\n",
    "            class_label_str = patient_to_diagnosis_map[patient_id]\n",
    "            label_idx = diagnosis_to_int_map[class_label_str]\n",
    "            \n",
    "            # Find all spectrogram patches for this audio file\n",
    "            spectrogram_folder = os.path.join(root_dir, file_id_without_ext)\n",
    "            if os.path.isdir(spectrogram_folder):\n",
    "                for img_name in os.listdir(spectrogram_folder):\n",
    "                    self.samples.append(os.path.join(spectrogram_folder, img_name))\n",
    "                    self.labels.append(label_idx)\n",
    "\n",
    "    def __len__(self):\n",
    "        return len(self.samples)\n",
    "\n",
    "    def __getitem__(self, idx):\n",
    "        img = Image.open(self.samples[idx]).convert('L')\n",
    "        img = self.transform(img)\n",
    "        label = self.labels[idx]\n",
    "        return img, label"
   ]
  },
  {
   "cell_type": "code",
   "execution_count": 32,
   "id": "2ba598fc",
   "metadata": {},
   "outputs": [],
   "source": [
    "class SimpleCNN(nn.Module):\n",
    "    def __init__(self, num_classes):\n",
    "        super().__init__()\n",
    "        \n",
    "        # We define the feature extractor part of the model separately\n",
    "        self.features = nn.Sequential(\n",
    "            nn.Conv2d(1, 16, kernel_size=5),\n",
    "            nn.ReLU(),\n",
    "            nn.MaxPool2d(2, 2),\n",
    "            nn.Conv2d(16, 32, kernel_size=3),\n",
    "            nn.ReLU(),\n",
    "            nn.MaxPool2d(2, 2),\n",
    "            nn.Conv2d(32, 64, kernel_size=3),\n",
    "            nn.ReLU(),\n",
    "            nn.MaxPool2d(2, 2)\n",
    "        )\n",
    "        \n",
    "        # To find the input size for the linear layer, we pass a dummy tensor\n",
    "        # through the feature extractor once.\n",
    "        with torch.no_grad():\n",
    "            # Create a dummy tensor with the same dimensions as one input image\n",
    "            dummy_input = torch.randn(1, 1, IMG_SIZE, IMG_SIZE)\n",
    "            # Pass it through the feature extractor\n",
    "            dummy_output = self.features(dummy_input)\n",
    "            # Get the size of the flattened output\n",
    "            flattened_size = dummy_output.view(1, -1).size(1)\n",
    "            \n",
    "        # Now we can define the classifier with the correct input size\n",
    "        self.classifier = nn.Sequential(\n",
    "            nn.Linear(flattened_size, 128),\n",
    "            nn.ReLU(),\n",
    "            nn.Dropout(0.3),\n",
    "            nn.Linear(128, num_classes)\n",
    "        )\n",
    "\n",
    "    def forward(self, x):\n",
    "        # Pass input through the feature extractor\n",
    "        x = self.features(x)\n",
    "        # Flatten the output for the classifier\n",
    "        x = x.view(x.size(0), -1)\n",
    "        # Pass the flattened tensor through the classifier\n",
    "        x = self.classifier(x)\n",
    "        return x"
   ]
  },
  {
   "cell_type": "code",
   "execution_count": 25,
   "id": "1f15d7cb",
   "metadata": {},
   "outputs": [
    {
     "name": "stdout",
     "output_type": "stream",
     "text": [
      "diagnosis\n",
      "COPD              64\n",
      "Healthy           26\n",
      "URTI              14\n",
      "Bronchiectasis     7\n",
      "Bronchiolitis      6\n",
      "Pneumonia          6\n",
      "LRTI               2\n",
      "Asthma             1\n",
      "Name: count, dtype: int64\n"
     ]
    }
   ],
   "source": [
    "print(meta_df['diagnosis'].value_counts())"
   ]
  },
  {
   "cell_type": "code",
   "execution_count": 29,
   "id": "3900bede",
   "metadata": {},
   "outputs": [
    {
     "name": "stdout",
     "output_type": "stream",
     "text": [
      "Removing rare classes: ['Asthma']\n",
      "\\nTraining spectrogram patches: 9431\n",
      "Validation spectrogram patches: 2494\n"
     ]
    }
   ],
   "source": [
    "transform = transforms.Compose([\n",
    "    transforms.ToTensor(),\n",
    "    transforms.Normalize(mean=[0.5], std=[0.5])\n",
    "])\n",
    "\n",
    "# 1. Identify and filter out classes with fewer than 2 samples\n",
    "class_counts = meta_df['diagnosis'].value_counts()\n",
    "classes_to_remove = class_counts[class_counts < 2].index.tolist()\n",
    "\n",
    "if classes_to_remove:\n",
    "    print(f\"Removing rare classes: {classes_to_remove}\")\n",
    "    ids_to_remove = meta_df[meta_df['diagnosis'].isin(classes_to_remove)]['id'].astype(str).tolist()\n",
    "    all_file_ids = [f for f in os.listdir(AUDIO_DIR) if f.endswith('.wav')]\n",
    "    file_ids = [f for f in all_file_ids if f.split('_')[0] not in ids_to_remove]\n",
    "else:\n",
    "    file_ids = [f for f in os.listdir(AUDIO_DIR) if f.endswith('.wav')]\n",
    "\n",
    "# 2. Create labels for the filtered files for stratification\n",
    "patient_ids = [int(f.split('_')[0]) for f in file_ids]\n",
    "stratify_labels = [meta_df.loc[meta_df['id'] == pid, 'diagnosis'].values[0] for pid in patient_ids]\n",
    "\n",
    "# 3. Split the filtered data\n",
    "train_ids, val_ids = train_test_split(\n",
    "    file_ids,\n",
    "    test_size=0.2,\n",
    "    stratify=stratify_labels,\n",
    "    random_state=42\n",
    ")\n",
    "\n",
    "# 4. Define the necessary dictionaries for the dataset\n",
    "# This maps patient ID (e.g., 101) to diagnosis (e.g., 'COPD')\n",
    "patient_to_diagnosis_map = meta_df.set_index('id')['diagnosis'].to_dict()\n",
    "# This maps diagnosis (e.g., 'COPD') to an integer (e.g., 0)\n",
    "diagnosis_to_int_map = {label: idx for idx, label in enumerate(meta_df['diagnosis'].unique())}\n",
    "\n",
    "# 5. Instantiate the datasets using the corrected class\n",
    "train_ds = SpecPatchDataset(SPEC_DIR, train_ids, patient_to_diagnosis_map, diagnosis_to_int_map, transform)\n",
    "val_ds   = SpecPatchDataset(SPEC_DIR, val_ids, patient_to_diagnosis_map, diagnosis_to_int_map, transform)\n",
    "\n",
    "# Create dataloaders\n",
    "train_loader = DataLoader(train_ds, batch_size=32, shuffle=True)\n",
    "val_loader   = DataLoader(val_ds, batch_size=32, shuffle=False)\n",
    "\n",
    "print(f\"\\\\nTraining spectrogram patches: {len(train_ds)}\")\n",
    "print(f\"Validation spectrogram patches: {len(val_ds)}\")"
   ]
  },
  {
   "cell_type": "code",
   "execution_count": 33,
   "id": "763d506b",
   "metadata": {},
   "outputs": [
    {
     "name": "stdout",
     "output_type": "stream",
     "text": [
      "Epoch 01 | Train Loss: 0.6465\n",
      "Epoch 02 | Train Loss: 0.6179\n",
      "Epoch 03 | Train Loss: 0.6109\n",
      "Epoch 04 | Train Loss: 0.6066\n",
      "Epoch 05 | Train Loss: 0.6056\n",
      "Epoch 06 | Train Loss: 0.6057\n",
      "Epoch 07 | Train Loss: 0.6037\n",
      "Epoch 08 | Train Loss: 0.6051\n",
      "Epoch 09 | Train Loss: 0.6012\n",
      "Epoch 10 | Train Loss: 0.6029\n",
      "Epoch 11 | Train Loss: 0.6024\n",
      "Epoch 12 | Train Loss: 0.5989\n",
      "Epoch 13 | Train Loss: 0.5980\n",
      "Epoch 14 | Train Loss: 0.6008\n",
      "Epoch 15 | Train Loss: 0.5994\n"
     ]
    }
   ],
   "source": [
    "device = torch.device(\"cuda\" if torch.cuda.is_available() else \"cpu\")\n",
    "model = SimpleCNN(num_classes=len(label_map)).to(device)\n",
    "\n",
    "optimizer = torch.optim.Adam(model.parameters(), lr=1e-3)\n",
    "criterion = nn.CrossEntropyLoss()\n",
    "\n",
    "for epoch in range(1, 16):\n",
    "    model.train()\n",
    "    total_loss = 0\n",
    "    for imgs, labels in train_loader:\n",
    "        imgs, labels = imgs.to(device), labels.to(device)\n",
    "        optimizer.zero_grad()\n",
    "        outputs = model(imgs)\n",
    "        loss = criterion(outputs, labels)\n",
    "        loss.backward()\n",
    "        optimizer.step()\n",
    "        total_loss += loss.item()\n",
    "    print(f\"Epoch {epoch:02d} | Train Loss: {total_loss / len(train_loader):.4f}\")\n"
   ]
  },
  {
   "cell_type": "code",
   "execution_count": 34,
   "id": "4ccac1af",
   "metadata": {},
   "outputs": [
    {
     "name": "stdout",
     "output_type": "stream",
     "text": [
      "Validation Accuracy: 0.8797\n"
     ]
    }
   ],
   "source": [
    "model.eval()\n",
    "correct = 0\n",
    "total = 0\n",
    "\n",
    "with torch.no_grad():\n",
    "    for imgs, labels in val_loader:\n",
    "        imgs, labels = imgs.to(device), labels.to(device)\n",
    "        preds = model(imgs).argmax(dim=1)\n",
    "        correct += (preds == labels).sum().item()\n",
    "        total += labels.size(0)\n",
    "\n",
    "print(f\"Validation Accuracy: {correct / total:.4f}\")\n"
   ]
  },
  {
   "cell_type": "code",
   "execution_count": 36,
   "id": "31020d3a",
   "metadata": {},
   "outputs": [],
   "source": [
    "#MLP version\n",
    "class MLP(nn.Module):\n",
    "    def __init__(self, num_classes):\n",
    "        super().__init__()\n",
    "        # Calculate the input size from the image dimensions\n",
    "        input_size = IMG_SIZE * IMG_SIZE\n",
    "\n",
    "        # Define the sequence of layers\n",
    "        self.layers = nn.Sequential(\n",
    "            # This layer flattens the 2D image into a 1D vector\n",
    "            nn.Flatten(),\n",
    "            \n",
    "            # First hidden layer\n",
    "            nn.Linear(input_size, 512),\n",
    "            nn.ReLU(),\n",
    "            nn.Dropout(0.3),\n",
    "            \n",
    "            # Second hidden layer\n",
    "            nn.Linear(512, 256),\n",
    "            nn.ReLU(),\n",
    "            nn.Dropout(0.3),\n",
    "            \n",
    "            # Output layer\n",
    "            nn.Linear(256, num_classes)\n",
    "        )\n",
    "\n",
    "    def forward(self, x):\n",
    "        \"\"\"The forward pass.\"\"\"\n",
    "        return self.layers(x)"
   ]
  },
  {
   "cell_type": "code",
   "execution_count": 37,
   "id": "11191d32",
   "metadata": {},
   "outputs": [
    {
     "name": "stdout",
     "output_type": "stream",
     "text": [
      "Using MLP model:\n",
      "MLP(\n",
      "  (layers): Sequential(\n",
      "    (0): Flatten(start_dim=1, end_dim=-1)\n",
      "    (1): Linear(in_features=16384, out_features=512, bias=True)\n",
      "    (2): ReLU()\n",
      "    (3): Dropout(p=0.3, inplace=False)\n",
      "    (4): Linear(in_features=512, out_features=256, bias=True)\n",
      "    (5): ReLU()\n",
      "    (6): Dropout(p=0.3, inplace=False)\n",
      "    (7): Linear(in_features=256, out_features=8, bias=True)\n",
      "  )\n",
      ")\n",
      "Epoch 01 | Train Loss: 0.7482\n",
      "Epoch 02 | Train Loss: 0.6436\n",
      "Epoch 03 | Train Loss: 0.6398\n",
      "Epoch 04 | Train Loss: 0.6262\n",
      "Epoch 05 | Train Loss: 0.6201\n",
      "Epoch 06 | Train Loss: 0.6161\n",
      "Epoch 07 | Train Loss: 0.6137\n",
      "Epoch 08 | Train Loss: 0.6060\n",
      "Epoch 09 | Train Loss: 0.6076\n",
      "Epoch 10 | Train Loss: 0.6081\n",
      "Epoch 11 | Train Loss: 0.6075\n",
      "Epoch 12 | Train Loss: 0.6035\n",
      "Epoch 13 | Train Loss: 0.6060\n",
      "Epoch 14 | Train Loss: 0.6004\n",
      "Epoch 15 | Train Loss: 0.6009\n"
     ]
    }
   ],
   "source": [
    "# Make sure you have defined the MLP class in a cell above this one\n",
    "\n",
    "device = torch.device(\"cuda\" if torch.cuda.is_available() else \"cpu\")\n",
    "# Instantiate the new MLP model\n",
    "model = MLP(num_classes=len(label_map)).to(device)\n",
    "\n",
    "print(\"Using MLP model:\")\n",
    "print(model)\n",
    "\n",
    "optimizer = torch.optim.Adam(model.parameters(), lr=1e-3)\n",
    "criterion = nn.CrossEntropyLoss()\n",
    "\n",
    "for epoch in range(1, 16):\n",
    "    model.train()\n",
    "    total_loss = 0\n",
    "    for imgs, labels in train_loader:\n",
    "        imgs, labels = imgs.to(device), labels.to(device)\n",
    "        optimizer.zero_grad()\n",
    "        outputs = model(imgs)\n",
    "        loss = criterion(outputs, labels)\n",
    "        loss.backward()\n",
    "        optimizer.step()\n",
    "        total_loss += loss.item()\n",
    "    print(f\"Epoch {epoch:02d} | Train Loss: {total_loss / len(train_loader):.4f}\")"
   ]
  },
  {
   "cell_type": "code",
   "execution_count": null,
   "id": "156edfc4",
   "metadata": {},
   "outputs": [
    {
     "name": "stdout",
     "output_type": "stream",
     "text": [
      "Validation Accuracy: 0.8797\n"
     ]
    }
   ],
   "source": []
  },
  {
   "cell_type": "code",
   "execution_count": null,
   "id": "1803f54e",
   "metadata": {},
   "outputs": [],
   "source": []
  }
 ],
 "metadata": {
  "kernelspec": {
   "display_name": "Python 3",
   "language": "python",
   "name": "python3"
  },
  "language_info": {
   "codemirror_mode": {
    "name": "ipython",
    "version": 3
   },
   "file_extension": ".py",
   "mimetype": "text/x-python",
   "name": "python",
   "nbconvert_exporter": "python",
   "pygments_lexer": "ipython3",
   "version": "3.12.9"
  }
 },
 "nbformat": 4,
 "nbformat_minor": 5
}
